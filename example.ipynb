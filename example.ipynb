{
 "cells": [
  {
   "cell_type": "markdown",
   "id": "a4e8e0cb-0e4d-4d16-bc3a-8a0f4188b001",
   "metadata": {},
   "source": [
    "# PyTorch DDP Speech Recognition Training Example\n",
    "\n",
    "This example demonstrates how to train a transformer network to classify audio words with Google's [Speech Command](https://huggingface.co/datasets/google/speech_commands).\n",
    "\n",
    "This notebook walks you through running that example locally, and how to easily scale PyTorch DDP across multiple nodes with Kubeflow TrainJob."
   ]
  },
  {
   "cell_type": "markdown",
   "id": "642915a6",
   "metadata": {},
   "source": [
    "\n",
    "## Prepare the Kubernetes environment using Kind\n",
    "\n",
    "If you already have your own Kubernetes cluster, you can skip this step.\n",
    "\n",
    "For demo purpose, you can create a k8s cluster with [Kind](https://kind.sigs.k8s.io/). In the same folder of this example Jupyter notebook file, you can find a file called `kind-config.yaml`. It will create a k8s cluster with 3 workers and /data from host server is mounted to kind k8s cluster server. Therefore you can download data to /data in your local machine and can be accessed from kind cluster as well.\n",
    "\n",
    "To create the kind cluster, run the following command:\n",
    "**Notice** This will create a Kind cluster named 'ml', you only need to run this command once. \n"
   ]
  },
  {
   "cell_type": "code",
   "execution_count": null,
   "id": "7482f7c9",
   "metadata": {},
   "outputs": [],
   "source": [
    "# !kind create cluster --name ml --config kind-config.yaml"
   ]
  },
  {
   "cell_type": "markdown",
   "id": "5d6d3b0a",
   "metadata": {},
   "source": [
    "## Add CRD and Kubeflow Trainer operator to Kubernetes cluster\n",
    "\n",
    "The full instruction is at [here](https://www.kubeflow.org/docs/components/trainer/operator-guides/installation/). In short, you can run command:"
   ]
  },
  {
   "cell_type": "code",
   "execution_count": null,
   "id": "58964e9f",
   "metadata": {},
   "outputs": [],
   "source": [
    "# !export VERSION=v2.0.0\n",
    "# !kubectl apply --server-side -k \"https://github.com/kubeflow/trainer.git/manifests/overlays/manager?ref=${VERSION}\""
   ]
  },
  {
   "cell_type": "markdown",
   "id": "2cb78ca0",
   "metadata": {},
   "source": [
    "## Prepare Docker Image\n",
    "\n",
    "We need to create a Docker image with requirements.txt, the `Dockerfile` and `requirements.txt` can be found at the same folder of this Jupyter Notebook.\n",
    "\n",
    "To build:"
   ]
  },
  {
   "cell_type": "code",
   "execution_count": null,
   "id": "d0612281",
   "metadata": {},
   "outputs": [],
   "source": [
    "# !docker build -t speech-recognition-image:0.1 -f Dockerfile ."
   ]
  },
  {
   "cell_type": "markdown",
   "id": "0127318f",
   "metadata": {},
   "source": [
    "### Load image to Kind cluster\n",
    "\n",
    "#### Kind cluster\n",
    "\n",
    "If you are using a local Kind cluster, run the following command to load docker image to your local cluster"
   ]
  },
  {
   "cell_type": "code",
   "execution_count": null,
   "id": "dba24342",
   "metadata": {},
   "outputs": [],
   "source": [
    "# !kind load docker-image speech-recognition-image:0.4 --name ml"
   ]
  },
  {
   "cell_type": "markdown",
   "id": "3725b970",
   "metadata": {},
   "source": [
    "#### Kubernetes cluster\n",
    "\n",
    "If you are not using the local Kind cluster for testing. Please upload the code to your own Docker registry.\n",
    "\n",
    "```bash\n",
    "docker image push <your docker image name with registry info>\n",
    "```"
   ]
  },
  {
   "cell_type": "markdown",
   "id": "68d6be3a",
   "metadata": {},
   "source": [
    "## Add Runtime to K8s cluster\n",
    "\n",
    "In the same folder of this Jypyter notebook file, there is a `kubeflow-runtime-example.yaml`. \n",
    "\n",
    "**Please modify the image to the one you just uploaded.**\n"
   ]
  },
  {
   "cell_type": "code",
   "execution_count": null,
   "id": "582d5a11",
   "metadata": {},
   "outputs": [],
   "source": [
    "# !kubectl apply -f kubeflow-runtime-example.yaml"
   ]
  },
  {
   "cell_type": "markdown",
   "id": "2503c397",
   "metadata": {},
   "source": [
    "## Install the Kubeflow SDK\n",
    "\n",
    "You need to install the Kubeflow SDK to interact with Kubeflow Trainer APIs:"
   ]
  },
  {
   "cell_type": "code",
   "execution_count": null,
   "id": "f98b1618-bf56-4c23-96d6-1e8332933ca3",
   "metadata": {},
   "outputs": [],
   "source": [
    "# !pip install git+https://github.com/kubeflow/sdk.git@main"
   ]
  },
  {
   "cell_type": "code",
   "execution_count": 2,
   "id": "89bee197-0a0e-487b-8512-45c4a9ef68f6",
   "metadata": {},
   "outputs": [],
   "source": [
    "from kubeflow.trainer import CustomTrainer, TrainerClient\n",
    "\n",
    "client = TrainerClient()"
   ]
  },
  {
   "cell_type": "code",
   "execution_count": 3,
   "id": "cc07152c-3966-49ee-8377-9f7199467d71",
   "metadata": {},
   "outputs": [],
   "source": [
    "from kubeflow.trainer import Runtime, RuntimeTrainer, TrainerType\n",
    "\n",
    "# Create custom Runtime\n",
    "custom_runtime = Runtime(\n",
    "    name=\"custom-pytorch-runtime\",\n",
    "    trainer=RuntimeTrainer(\n",
    "        trainer_type=TrainerType.CUSTOM_TRAINER,\n",
    "        framework=\"torch\",\n",
    "        num_nodes=2,\n",
    "    ),\n",
    "    pretrained_model=None\n",
    ")\n",
    "\n"
   ]
  },
  {
   "cell_type": "code",
   "execution_count": 4,
   "id": "778f9264-9ca6-43f9-afb0-fa00f353f072",
   "metadata": {},
   "outputs": [
    {
     "name": "stdout",
     "output_type": "stream",
     "text": [
      "Runtime(name='torch-distributed-speech-recognition', trainer=RuntimeTrainer(trainer_type=<TrainerType.CUSTOM_TRAINER: 'CustomTrainer'>, framework='torch', num_nodes=1, device='Unknown', device_count='Unknown'), pretrained_model=None)\n",
      "Runtime(name='torch-distributed-voice-recognition', trainer=RuntimeTrainer(trainer_type=<TrainerType.CUSTOM_TRAINER: 'CustomTrainer'>, framework='torch', num_nodes=1, device='Unknown', device_count='Unknown'), pretrained_model=None)\n"
     ]
    }
   ],
   "source": [
    "for runtime in client.list_runtimes():\n",
    "    print(runtime)\n",
    "    if runtime.name == \"torch-distributed-speech-recognition\":\n",
    "        torch_runtime = runtime\n"
   ]
  },
  {
   "cell_type": "code",
   "execution_count": 6,
   "id": "9d7209e1-d45d-4de0-b392-075232427075",
   "metadata": {},
   "outputs": [],
   "source": [
    "import train_with_kubeflow_trainer\n",
    "\n",
    "job_name = client.train(\n",
    "    trainer=CustomTrainer(\n",
    "        func=train_with_kubeflow_trainer.run,\n",
    "        # Set how many PyTorch nodes you want to use for distributed training.\n",
    "        num_nodes=2,\n",
    "        # Set the resources for each PyTorch node.\n",
    "        resources_per_node={\n",
    "            \"cpu\": 2,\n",
    "            \"memory\": \"8Gi\",\n",
    "            # Uncomment this to distribute the TrainJob using GPU nodes.\n",
    "            # \"nvidia.com/gpu\": 1,\n",
    "        },\n",
    "    ),\n",
    "    runtime=torch_runtime,\n",
    ")"
   ]
  },
  {
   "cell_type": "code",
   "execution_count": 6,
   "id": "269cbb92-e30a-4c53-8c9b-750f8e86d1a4",
   "metadata": {},
   "outputs": [
    {
     "data": {
      "text/plain": [
       "TrainJob(name='m1b42f2aab8e', creation_timestamp=datetime.datetime(2025, 9, 9, 6, 7, 17, tzinfo=TzInfo(UTC)), runtime=Runtime(name='torch-distributed-voice-recognition', trainer=RuntimeTrainer(trainer_type=<TrainerType.CUSTOM_TRAINER: 'CustomTrainer'>, framework='torch', num_nodes=1, device='Unknown', device_count='Unknown'), pretrained_model=None), steps=[Step(name='node-0', status='Running', pod_name='m1b42f2aab8e-node-0-0-hxsmv', device='cpu', device_count='4'), Step(name='node-1', status='Running', pod_name='m1b42f2aab8e-node-0-1-k869r', device='cpu', device_count='4'), Step(name='node-2', status='Running', pod_name='m1b42f2aab8e-node-0-2-xtz4g', device='cpu', device_count='4')], num_nodes=3, status='Running')"
      ]
     },
     "execution_count": 6,
     "metadata": {},
     "output_type": "execute_result"
    }
   ],
   "source": [
    "client.wait_for_job_status(name=job_name, status={\"Running\"})\n",
    "\n",
    "\n"
   ]
  },
  {
   "cell_type": "code",
   "execution_count": null,
   "id": "f60e728e-ab00-4b13-aa52-bc1d61d5b2d1",
   "metadata": {},
   "outputs": [],
   "source": []
  },
  {
   "cell_type": "code",
   "execution_count": null,
   "id": "6cd48a91-611a-4891-9be6-b4284ef1b779",
   "metadata": {},
   "outputs": [],
   "source": []
  }
 ],
 "metadata": {
  "kernelspec": {
   "display_name": "Python 3 (ipykernel)",
   "language": "python",
   "name": "python3"
  },
  "language_info": {
   "codemirror_mode": {
    "name": "ipython",
    "version": 3
   },
   "file_extension": ".py",
   "mimetype": "text/x-python",
   "name": "python",
   "nbconvert_exporter": "python",
   "pygments_lexer": "ipython3",
   "version": "3.12.11"
  }
 },
 "nbformat": 4,
 "nbformat_minor": 5
}
