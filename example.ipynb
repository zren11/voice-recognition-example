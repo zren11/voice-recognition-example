{
 "cells": [
  {
   "cell_type": "code",
   "execution_count": 1,
   "id": "a95878e2-d430-4544-8e46-c16f425b4b92",
   "metadata": {},
   "outputs": [],
   "source": [
    "# !pip install git+https://github.com/kubeflow/sdk.git@main"
   ]
  },
  {
   "cell_type": "code",
   "execution_count": 2,
   "id": "89bee197-0a0e-487b-8512-45c4a9ef68f6",
   "metadata": {},
   "outputs": [],
   "source": [
    "from kubeflow.trainer import CustomTrainer, TrainerClient\n",
    "\n",
    "client = TrainerClient()"
   ]
  },
  {
   "cell_type": "code",
   "execution_count": 3,
   "id": "cc07152c-3966-49ee-8377-9f7199467d71",
   "metadata": {},
   "outputs": [],
   "source": [
    "from kubeflow.trainer import Runtime, RuntimeTrainer, TrainerType\n",
    "\n",
    "# Create custom Runtime\n",
    "custom_runtime = Runtime(\n",
    "    name=\"custom-pytorch-runtime\",\n",
    "    trainer=RuntimeTrainer(\n",
    "        trainer_type=TrainerType.CUSTOM_TRAINER,\n",
    "        framework=\"torch\",\n",
    "        num_nodes=2,\n",
    "    ),\n",
    "    pretrained_model=None\n",
    ")\n",
    "\n"
   ]
  },
  {
   "cell_type": "code",
   "execution_count": 4,
   "id": "778f9264-9ca6-43f9-afb0-fa00f353f072",
   "metadata": {},
   "outputs": [
    {
     "name": "stdout",
     "output_type": "stream",
     "text": [
      "Runtime(name='torch-distributed-speech-recognition', trainer=RuntimeTrainer(trainer_type=<TrainerType.CUSTOM_TRAINER: 'CustomTrainer'>, framework='torch', num_nodes=1, device='Unknown', device_count='Unknown'), pretrained_model=None)\n",
      "Runtime(name='torch-distributed-voice-recognition', trainer=RuntimeTrainer(trainer_type=<TrainerType.CUSTOM_TRAINER: 'CustomTrainer'>, framework='torch', num_nodes=1, device='Unknown', device_count='Unknown'), pretrained_model=None)\n"
     ]
    }
   ],
   "source": [
    "for runtime in client.list_runtimes():\n",
    "    print(runtime)\n",
    "    if runtime.name == \"torch-distributed-speech-recognition\":\n",
    "        torch_runtime = runtime\n"
   ]
  },
  {
   "cell_type": "code",
   "execution_count": 6,
   "id": "9d7209e1-d45d-4de0-b392-075232427075",
   "metadata": {},
   "outputs": [],
   "source": [
    "import train_with_kubeflow_trainer\n",
    "\n",
    "job_name = client.train(\n",
    "    trainer=CustomTrainer(\n",
    "        func=train_with_kubeflow_trainer.run,\n",
    "        # Set how many PyTorch nodes you want to use for distributed training.\n",
    "        num_nodes=2,\n",
    "        # Set the resources for each PyTorch node.\n",
    "        resources_per_node={\n",
    "            \"cpu\": 2,\n",
    "            \"memory\": \"8Gi\",\n",
    "            # Uncomment this to distribute the TrainJob using GPU nodes.\n",
    "            # \"nvidia.com/gpu\": 1,\n",
    "        },\n",
    "    ),\n",
    "    runtime=torch_runtime,\n",
    ")"
   ]
  },
  {
   "cell_type": "code",
   "execution_count": 6,
   "id": "269cbb92-e30a-4c53-8c9b-750f8e86d1a4",
   "metadata": {},
   "outputs": [
    {
     "data": {
      "text/plain": [
       "TrainJob(name='m1b42f2aab8e', creation_timestamp=datetime.datetime(2025, 9, 9, 6, 7, 17, tzinfo=TzInfo(UTC)), runtime=Runtime(name='torch-distributed-voice-recognition', trainer=RuntimeTrainer(trainer_type=<TrainerType.CUSTOM_TRAINER: 'CustomTrainer'>, framework='torch', num_nodes=1, device='Unknown', device_count='Unknown'), pretrained_model=None), steps=[Step(name='node-0', status='Running', pod_name='m1b42f2aab8e-node-0-0-hxsmv', device='cpu', device_count='4'), Step(name='node-1', status='Running', pod_name='m1b42f2aab8e-node-0-1-k869r', device='cpu', device_count='4'), Step(name='node-2', status='Running', pod_name='m1b42f2aab8e-node-0-2-xtz4g', device='cpu', device_count='4')], num_nodes=3, status='Running')"
      ]
     },
     "execution_count": 6,
     "metadata": {},
     "output_type": "execute_result"
    }
   ],
   "source": [
    "client.wait_for_job_status(name=job_name, status={\"Running\"})\n",
    "\n",
    "\n"
   ]
  },
  {
   "cell_type": "code",
   "execution_count": null,
   "id": "f60e728e-ab00-4b13-aa52-bc1d61d5b2d1",
   "metadata": {},
   "outputs": [],
   "source": []
  },
  {
   "cell_type": "code",
   "execution_count": null,
   "id": "6cd48a91-611a-4891-9be6-b4284ef1b779",
   "metadata": {},
   "outputs": [],
   "source": []
  }
 ],
 "metadata": {
  "kernelspec": {
   "display_name": "Python 3 (ipykernel)",
   "language": "python",
   "name": "python3"
  },
  "language_info": {
   "codemirror_mode": {
    "name": "ipython",
    "version": 3
   },
   "file_extension": ".py",
   "mimetype": "text/x-python",
   "name": "python",
   "nbconvert_exporter": "python",
   "pygments_lexer": "ipython3",
   "version": "3.12.11"
  }
 },
 "nbformat": 4,
 "nbformat_minor": 5
}
