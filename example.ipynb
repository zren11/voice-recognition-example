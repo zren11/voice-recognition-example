{
 "cells": [
  {
   "cell_type": "code",
   "execution_count": 11,
   "id": "8c42da92-6c83-49c4-bde9-045b0442035d",
   "metadata": {},
   "outputs": [
    {
     "name": "stdout",
     "output_type": "stream",
     "text": [
      "Using device: cuda\n"
     ]
    }
   ],
   "source": [
    "# 1. IMPORTS\n",
    "# ---\n",
    "import torch\n",
    "import torch.nn as nn\n",
    "from torch.utils.data import Dataset, DataLoader\n",
    "import torchaudio\n",
    "import os # To navigate file paths\n",
    "import torch\n",
    "\n",
    "# 这行代码会自动选择GPU（如果可用），否则退回到CPU\n",
    "device = torch.device(\"cuda\" if torch.cuda.is_available() else \"cpu\")\n",
    "print(f\"Using device: {device}\")\n"
   ]
  },
  {
   "cell_type": "code",
   "execution_count": 5,
   "id": "6d101177-3933-4c15-a2ad-dbc434cac830",
   "metadata": {},
   "outputs": [
    {
     "data": {
      "text/plain": [
       "True"
      ]
     },
     "execution_count": 5,
     "metadata": {},
     "output_type": "execute_result"
    }
   ],
   "source": [
    "torch.cuda.is_available()\n"
   ]
  },
  {
   "cell_type": "code",
   "execution_count": 6,
   "id": "2d8fa403-f8ce-48d8-8fb8-2b9cda194ba0",
   "metadata": {},
   "outputs": [],
   "source": [
    "# 2. THE DATASET CLASS\n",
    "# ---\n",
    "# Its job: Load an audio file, convert it to a spectrogram, and return it with its numerical label.\n",
    "class SpeechCommandsDataset(Dataset):\n",
    "    def __init__(self, data_path):\n",
    "        # TODO: Write logic here to find all audio files.\n",
    "        # You'll also need to create a mapping from word labels to integers (e.g., \"yes\" -> 0, \"no\" -> 1).\n",
    "        self.audio_paths = []\n",
    "        self.label_map = {}\n",
    "        self.transform = torchaudio.transforms.MelSpectrogram(n_mels=128)\n",
    "\n",
    "    def __len__(self):\n",
    "        return len(self.audio_paths)\n",
    "\n",
    "    def __getitem__(self, index):\n",
    "        audio_path = self.audio_paths[index]\n",
    "\n",
    "        # Load the audio file\n",
    "        waveform, sample_rate = torchaudio.load(audio_path)\n",
    "\n",
    "        # Transform to spectrogram\n",
    "        spectrogram = self.transform(waveform)\n",
    "\n",
    "        # Get the label\n",
    "        # TODO: Implement a way to get the word from the file path and convert it to a number.\n",
    "        label = 0 # Placeholder\n",
    "\n",
    "        return spectrogram, label\n"
   ]
  },
  {
   "cell_type": "code",
   "execution_count": 9,
   "id": "26420597-9f31-4252-8e8f-2acc71ac4c6b",
   "metadata": {},
   "outputs": [],
   "source": [
    "# 3. THE MODEL CLASS\n",
    "# ---\n",
    "# Its job: Define the Transformer architecture.\n",
    "class AudioTransformer(nn.Module):\n",
    "    def __init__(self, num_input_features=128, num_classes=35):\n",
    "        super().__init__()\n",
    "        # Using PyTorch's pre-built Transformer components\n",
    "        encoder_layer = nn.TransformerEncoderLayer(d_model=num_input_features, nhead=8, batch_first=True)\n",
    "        self.transformer_encoder = nn.TransformerEncoder(encoder_layer, num_layers=6)\n",
    "        self.output_layer = nn.Linear(num_input_features, num_classes)\n",
    "\n",
    "    def forward(self, spectrogram_batch):\n",
    "        # Input shape needs to be (batch, time, features) for batch_first=True\n",
    "        # Spectrograms are often (batch, features, time), so we might need to permute\n",
    "        x = spectrogram_batch.permute(0, 2, 1)\n",
    "\n",
    "        x = self.transformer_encoder(x)\n",
    "        x = x.mean(dim=1) # Average over the time dimension\n",
    "        predictions = self.output_layer(x)\n",
    "        return predictions"
   ]
  },
  {
   "cell_type": "code",
   "execution_count": 10,
   "id": "ad1c3041-cca3-45cb-a8f1-b0363904ad34",
   "metadata": {},
   "outputs": [
    {
     "name": "stdout",
     "output_type": "stream",
     "text": [
      "Downloading SpeechCommands dataset...\n"
     ]
    },
    {
     "name": "stderr",
     "output_type": "stream",
     "text": [
      "100%|████████████████████████████████████████████████████████████████████████████████████████████████████████████████████████████████████████████████████████████████████████████████████████████████████████| 2.26G/2.26G [00:25<00:00, 95.2MB/s]\n"
     ]
    },
    {
     "name": "stdout",
     "output_type": "stream",
     "text": [
      "Download complete!\n",
      "Number of training samples: 105829\n"
     ]
    }
   ],
   "source": [
    "import torchaudio\n",
    "\n",
    "print(\"Downloading SpeechCommands dataset...\")\n",
    "\n",
    "# This command will download the data to a folder named \"SpeechCommands\"\n",
    "# in your current directory if it's not already there.\n",
    "train_dataset = torchaudio.datasets.SPEECHCOMMANDS(root=\".\", download=True)\n",
    "\n",
    "print(\"Download complete!\")\n",
    "print(f\"Number of training samples: {len(train_dataset)}\")\n"
   ]
  },
  {
   "cell_type": "code",
   "execution_count": null,
   "id": "74b8a9d7-1430-4014-aa10-203258d28075",
   "metadata": {},
   "outputs": [],
   "source": [
    "# 4. THE TRAINING SCRIPT\n",
    "# ---\n",
    "# This block runs when you execute the python file.\n",
    "# if __name__ == '__main__':\n",
    "# Instantiate the Dataset and DataLoader\n",
    "dataset = SpeechCommandsDataset(data_path=\"path/to/SpeechCommands/data\")\n",
    "data_loader = DataLoader(dataset, batch_size=32, shuffle=True)\n",
    "\n",
    "# Instantiate the Model, Loss Function, and Optimizer\n",
    "model = AudioTransformer()\n",
    "loss_fn = nn.CrossEntropyLoss()\n",
    "optimizer = torch.optim.Adam(model.parameters(), lr=0.001)\n",
    "\n",
    "# The Training Loop\n",
    "print(\"Starting training...\")\n",
    "for epoch in range(10): # An \"epoch\" is one full pass over the dataset\n",
    "    for spectrograms, labels in data_loader:\n",
    "        # 1. PREDICT: Pass data through the model\n",
    "        predictions = model(spectrograms)\n",
    "\n",
    "        # 2. COMPARE: Calculate the error\n",
    "        loss = loss_fn(predictions, labels)\n",
    "\n",
    "        # 3. ADJUST: Update the model's weights\n",
    "        optimizer.zero_grad()\n",
    "        loss.backward()\n",
    "        optimizer.step()\n",
    "\n",
    "    print(f\"Epoch {epoch+1} finished, Loss: {loss.item()}\")\n",
    "\n",
    "print(\"Training complete!\")\n"
   ]
  },
  {
   "cell_type": "code",
   "execution_count": null,
   "id": "3d1b5447-f638-4de0-9bd8-5807f489cc87",
   "metadata": {},
   "outputs": [],
   "source": []
  }
 ],
 "metadata": {
  "kernelspec": {
   "display_name": "Python 3 (ipykernel)",
   "language": "python",
   "name": "python3"
  },
  "language_info": {
   "codemirror_mode": {
    "name": "ipython",
    "version": 3
   },
   "file_extension": ".py",
   "mimetype": "text/x-python",
   "name": "python",
   "nbconvert_exporter": "python",
   "pygments_lexer": "ipython3",
   "version": "3.12.11"
  }
 },
 "nbformat": 4,
 "nbformat_minor": 5
}
